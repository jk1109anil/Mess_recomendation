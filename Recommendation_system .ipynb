{
 "cells": [
  {
   "cell_type": "code",
   "execution_count": 33,
   "metadata": {},
   "outputs": [],
   "source": [
    "import cv2 \n",
    "import tensorflow as tf\n",
    "import os\n",
    "from tensorflow.keras.preprocessing import image\n",
    "import numpy as np\n",
    "import heapq\n",
    "\n",
    "model = tf.keras.models.load_model(\"ResNet50_Food.h5\")"
   ]
  },
  {
   "cell_type": "code",
   "execution_count": 34,
   "metadata": {},
   "outputs": [],
   "source": [
    "path = \"C:\\\\Users\\\\Jayakrishnan\\\\Downloads\\\\Hari_work\\\\test_2\"\n",
    "for img in os.listdir(path):\n",
    "    im1 = cv2.imread(os.path.join(path,img))\n",
    "    im2 = cv2.resize(im1, (224, 224))\n",
    "    input_list.append(im2)\n",
    "#prediction = model.predict(input_list)"
   ]
  },
  {
   "cell_type": "code",
   "execution_count": 53,
   "metadata": {},
   "outputs": [],
   "source": [
    "V = np.zeros((21,1))   # Holds the number of a vactor with number of photos of each food\n",
    "\n",
    "for i in os.listdir(path):\n",
    "    img = image.load_img(path+\"\\\\\"+i,target_size=(224,224))\n",
    "    X = image.img_to_array(img)\n",
    "    X = np.expand_dims(X,axis=0)\n",
    "    images = np.vstack([X])\n",
    "    val = model.predict(images)\n",
    "    j = val.argmax(axis=-1)[0]\n",
    "    V[j] = V[j]+1"
   ]
  },
  {
   "cell_type": "code",
   "execution_count": 77,
   "metadata": {
    "scrolled": true
   },
   "outputs": [],
   "source": [
    "import pandas as pd\n",
    "df = pd.read_excel('Mess_Menu.xlsx')"
   ]
  },
  {
   "cell_type": "code",
   "execution_count": 78,
   "metadata": {},
   "outputs": [],
   "source": [
    "Mess_names = df.columns[1:] \n",
    "n = len(Mess_names)\n",
    "m = 3  #The code picks out the top 3 Messes (m<n)"
   ]
  },
  {
   "cell_type": "code",
   "execution_count": 79,
   "metadata": {},
   "outputs": [],
   "source": [
    "df = df.drop(['menu'], axis = 1)\n",
    "U = df.to_numpy()"
   ]
  },
  {
   "cell_type": "code",
   "execution_count": 81,
   "metadata": {},
   "outputs": [],
   "source": [
    "rank = np.matmul(np.transpose(U),V)"
   ]
  },
  {
   "cell_type": "code",
   "execution_count": 111,
   "metadata": {},
   "outputs": [
    {
     "name": "stdout",
     "output_type": "stream",
     "text": [
      "Mess-C\n",
      "Mess-D\n",
      "Mess-A\n"
     ]
    }
   ],
   "source": [
    "u = heapq.nlargest(m, range(n), rank.take)  # Prints out the top m-Messes\n",
    "for i in u:\n",
    "    print(Mess_names[i])"
   ]
  },
  {
   "cell_type": "code",
   "execution_count": 112,
   "metadata": {},
   "outputs": [
    {
     "data": {
      "text/plain": [
       "5"
      ]
     },
     "execution_count": 112,
     "metadata": {},
     "output_type": "execute_result"
    }
   ],
   "source": [
    "len(Mess_names)"
   ]
  },
  {
   "cell_type": "code",
   "execution_count": null,
   "metadata": {},
   "outputs": [],
   "source": []
  }
 ],
 "metadata": {
  "kernelspec": {
   "display_name": "Python 3",
   "language": "python",
   "name": "python3"
  },
  "language_info": {
   "codemirror_mode": {
    "name": "ipython",
    "version": 3
   },
   "file_extension": ".py",
   "mimetype": "text/x-python",
   "name": "python",
   "nbconvert_exporter": "python",
   "pygments_lexer": "ipython3",
   "version": "3.7.4"
  }
 },
 "nbformat": 4,
 "nbformat_minor": 2
}
